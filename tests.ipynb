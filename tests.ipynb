{
 "cells": [
  {
   "cell_type": "code",
   "execution_count": 1,
   "id": "initial_id",
   "metadata": {
    "collapsed": true,
    "ExecuteTime": {
     "end_time": "2024-11-19T13:42:51.908249Z",
     "start_time": "2024-11-19T13:42:50.750394Z"
    }
   },
   "outputs": [],
   "source": [
    "import torch\n",
    "import torch.nn as nn\n",
    "import numpy as np\n",
    "import matplotlib.pyplot as plt\n",
    "from mpl_toolkits.mplot3d import Axes3D\n",
    "import pandas as pd\n",
    "from tqdm.auto import tqdm\n",
    "\n",
    "device = torch.device(\"cuda:0\" if torch.cuda.is_available() else \"cpu\")"
   ]
  },
  {
   "cell_type": "code",
   "execution_count": 2,
   "outputs": [],
   "source": [
    "class NN(nn.Module):\n",
    "    def __init__(self, input_size, hidden_size, output_size):\n",
    "        super(NN, self).__init__()\n",
    "        \n",
    "        self.tanh = nn.Tanh()\n",
    "        \n",
    "        self.l1 = nn.Linear(input_size, hidden_size)\n",
    "        self.l1.bias.data.fill_(0.0)\n",
    "        nn.init.xavier_uniform_(self.l1.weight)\n",
    "\n",
    "        self.l2 = nn.Linear(hidden_size, hidden_size)\n",
    "        self.l2.bias.data.fill_(0.0)\n",
    "        nn.init.xavier_uniform_(self.l2.weight)\n",
    "\n",
    "        self.l3 = nn.Linear(hidden_size, hidden_size)\n",
    "        self.l3.bias.data.fill_(0.0)\n",
    "        nn.init.xavier_uniform_(self.l3.weight)\n",
    "\n",
    "        self.l4 = nn.Linear(hidden_size, output_size)\n",
    "        self.l4.bias.data.fill_(0.0)\n",
    "        nn.init.xavier_uniform_(self.l4.weight)\n",
    "    \n",
    "    def forward(self, x):\n",
    "        out = self.l1(x)\n",
    "        out = self.tanh(out)\n",
    "        out = self.l2(out)\n",
    "        out = self.tanh(out)\n",
    "        out = self.l3(out)\n",
    "        out = self.tanh(out)\n",
    "        out = self.l4(out)\n",
    "        return out"
   ],
   "metadata": {
    "collapsed": false,
    "ExecuteTime": {
     "end_time": "2024-11-19T13:42:52.751285Z",
     "start_time": "2024-11-19T13:42:52.748376Z"
    }
   },
   "id": "c192d993eb7f394"
  },
  {
   "cell_type": "code",
   "execution_count": 3,
   "outputs": [],
   "source": [
    "K = 40\n",
    "r = 0.05\n",
    "sigma = 0.15\n",
    "T = [0.0, 1.0]\n",
    "S = [0, 160]\n",
    "t_sample_size = 101\n",
    "S_sample_size = 101"
   ],
   "metadata": {
    "collapsed": false,
    "ExecuteTime": {
     "end_time": "2024-11-19T13:42:53.436416Z",
     "start_time": "2024-11-19T13:42:53.432049Z"
    }
   },
   "id": "7a11a7b6bb51cdcd"
  },
  {
   "cell_type": "code",
   "execution_count": null,
   "outputs": [
    {
     "data": {
      "text/plain": "  0%|          | 0/1000 [00:00<?, ?it/s]",
      "application/vnd.jupyter.widget-view+json": {
       "version_major": 2,
       "version_minor": 0,
       "model_id": "68cf8354d5364410a309e3d98cd6ea17"
      }
     },
     "metadata": {},
     "output_type": "display_data"
    }
   ],
   "source": [
    "pinn = NN(2, 16, 1)\n",
    "pinn.to(device)\n",
    "mse_loss = nn.MSELoss()\n",
    "optimizer = torch.optim.Adam(pinn.parameters(), lr=0.01)\n",
    "\n",
    "t_samples = torch.linspace(T[0], T[1], t_sample_size)\n",
    "S_samples = torch.linspace(S[0], S[1], S_sample_size)\n",
    "\n",
    "# Boundary: C(0,t) = 0\n",
    "boundary1 = torch.stack((torch.full((t_sample_size,), S[0]), t_samples), dim=1).requires_grad_(True)\n",
    "# Bourdary: C(S->inf,t) = S-Ke^-r(T-t)\n",
    "boundary2 = torch.stack((torch.full((t_sample_size,), S[1]), t_samples), dim=1).requires_grad_(True)\n",
    "# Boundary: C(S,T) = max(S-K, 0)\n",
    "boundary3 = torch.stack((S_samples, torch.full((S_sample_size,), T[1])), dim=1).requires_grad_(True)\n",
    "\n",
    "# Mesh (S,t)\n",
    "mesh = torch.cartesian_prod(S_samples, t_samples).requires_grad_(True)\n",
    "\n",
    "losses = []\n",
    "\n",
    "for i in tqdm(range(1000)):\n",
    "    optimizer.zero_grad()\n",
    "    \n",
    "    # Boundary losses\n",
    "    u = pinn(boundary1)\n",
    "    loss_boundary1 = torch.squeeze(u).pow(2)\n",
    "    \n",
    "    u = pinn(boundary2)\n",
    "    S_inf = S[1] - K * torch.exp(-r * (T[1] - t_samples))\n",
    "    loss_boundary2 = (torch.squeeze(u) - S_inf).pow(2)\n",
    "    \n",
    "    u = pinn(boundary3)\n",
    "    loss_boundary3 = (torch.squeeze(u) - torch.fmax(S_samples-K, torch.tensor(0))).pow(2)\n",
    "    \n",
    "    boudary_loss = loss_boundary1 + loss_boundary2 + loss_boundary3\n",
    "    \n",
    "    # PDE loss\n",
    "    u = pinn(mesh)\n",
    "    du = torch.autograd.grad(u, mesh, grad_outputs=torch.ones_like(u), create_graph=True)[0]\n",
    "    dudt, duds = du[:, 0], du[:, 1]\n",
    "    d2uds2 = torch.autograd.grad(duds, mesh, grad_outputs=torch.ones_like(duds), create_graph=True)[0][:, 1]\n",
    "    \n",
    "    S1 = mesh[:, 1]\n",
    "    pde_loss = (dudt + 0.5*sigma**2*S1**2*d2uds2 + r*S1*duds - r*u).pow(2)\n",
    "\n",
    "    loss = pde_loss.mean() + boudary_loss.mean()\n",
    "    losses.append(loss.item())\n",
    "\n",
    "    loss.backward()\n",
    "\n",
    "    optimizer.step()"
   ],
   "metadata": {
    "collapsed": false,
    "is_executing": true,
    "ExecuteTime": {
     "start_time": "2024-11-19T13:42:54.090320Z"
    }
   },
   "id": "905ea4ea9c1a1013"
  },
  {
   "cell_type": "code",
   "execution_count": null,
   "outputs": [],
   "source": [
    "plt.plot(losses)\n",
    "plt.show()"
   ],
   "metadata": {
    "collapsed": false
   },
   "id": "ecf1195406a09e16"
  },
  {
   "cell_type": "code",
   "execution_count": null,
   "outputs": [],
   "source": [
    "s_grid = np.linspace(S[0], S[1], 101) #np.linspace(0, 160, 101)\n",
    "t_grid = np.linspace(T[0], T[1], 101)#np.linspace(0, 1, 101)\n",
    "s_grid_mesh, t_grid_mesh = np.meshgrid(s_grid, t_grid)\n",
    "\n",
    "c = pinn(mesh).detach().cpu().numpy()\n",
    "\n",
    "# Create a 3D plot\n",
    "fig = plt.figure(figsize=(8, 6))\n",
    "ax = fig.add_subplot(111, projection='3d', elev=30, azim=15)\n",
    "# Plot the surface\n",
    "surf = ax.plot_surface(s_grid_mesh, t_grid_mesh, c, cmap='viridis', edgecolor='none')\n",
    "# Add color bar\n",
    "fig.colorbar(surf, shrink=0.5, aspect=10)\n",
    "# Labels and title\n",
    "ax.set_xlabel('S')\n",
    "ax.set_ylabel('t')\n",
    "ax.set_zlabel('u')\n",
    "\n",
    "# ax.set_xlim(0, 160)  # Set s range\n",
    "# ax.set_ylim(0, 1)    # Set t range\n",
    "\n",
    "plt.show()"
   ],
   "metadata": {
    "collapsed": false
   },
   "id": "ce841a68fe493fd3"
  },
  {
   "cell_type": "code",
   "execution_count": null,
   "outputs": [],
   "source": [
    "mu = 0.02\n",
    "n = 100\n",
    "dt = 0.1\n",
    "x0 = 100\n",
    "\n",
    "sigma = np.full(10, 0.1)\n",
    "\n",
    "x = np.exp(\n",
    "    (mu - sigma ** 2 / 2) * dt + sigma * np.random.normal(0, np.sqrt(dt), size=(len(sigma), n)).T\n",
    ")\n",
    "x = np.vstack([np.ones(len(sigma)), x])\n",
    "x = x0 * x.cumprod(axis=0)\n",
    "\n",
    "plt.plot(x)\n",
    "plt.plot([np.average(av) for av in x], 'k--')\n",
    "plt.show()"
   ],
   "metadata": {
    "collapsed": false
   },
   "id": "f428a9f19fda2525"
  },
  {
   "cell_type": "code",
   "execution_count": null,
   "outputs": [],
   "source": [
    "df = pd.read_csv('aapl_eod_202001.csv', sep=r'\\s*,\\s*', engine='python')\n",
    "# plt.plot(df.sort_values(by='[QUOTE_UNIXTIME]')['[QUOTE_UNIXTIME]'], df.sort_values(by='[QUOTE_UNIXTIME]')['[UNDERLYING_LAST]'])\n",
    "dat = df[df['[QUOTE_DATE]'] == '2020-01-02']\n",
    "plt.hist(dat['[UNDERLYING_LAST]'])"
   ],
   "metadata": {
    "collapsed": false
   },
   "id": "c409b38e7cc60e47"
  },
  {
   "cell_type": "code",
   "execution_count": null,
   "outputs": [],
   "source": [
    "print(0)"
   ],
   "metadata": {
    "collapsed": false
   },
   "id": "4a2630360e24252e"
  },
  {
   "cell_type": "code",
   "execution_count": null,
   "outputs": [],
   "source": [],
   "metadata": {
    "collapsed": false
   },
   "id": "1c74fe3934de4519"
  }
 ],
 "metadata": {
  "kernelspec": {
   "display_name": "Python 3",
   "language": "python",
   "name": "python3"
  },
  "language_info": {
   "codemirror_mode": {
    "name": "ipython",
    "version": 2
   },
   "file_extension": ".py",
   "mimetype": "text/x-python",
   "name": "python",
   "nbconvert_exporter": "python",
   "pygments_lexer": "ipython2",
   "version": "2.7.6"
  }
 },
 "nbformat": 4,
 "nbformat_minor": 5
}
